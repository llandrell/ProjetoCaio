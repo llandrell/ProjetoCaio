{
  "nbformat": 4,
  "nbformat_minor": 0,
  "metadata": {
    "colab": {
      "provenance": [],
      "authorship_tag": "ABX9TyP7q/jDwZHpBP77oJBClqJf",
      "include_colab_link": true
    },
    "kernelspec": {
      "name": "python3",
      "display_name": "Python 3"
    },
    "language_info": {
      "name": "python"
    }
  },
  "cells": [
    {
      "cell_type": "markdown",
      "metadata": {
        "id": "view-in-github",
        "colab_type": "text"
      },
      "source": [
        "<a href=\"https://colab.research.google.com/github/llandrell/ProjetoCaio/blob/main/C%C3%B3pia_de_C%C3%B3pia_de_Untitled0.ipynb\" target=\"_parent\"><img src=\"https://colab.research.google.com/assets/colab-badge.svg\" alt=\"Open In Colab\"/></a>"
      ]
    },
    {
      "cell_type": "code",
      "execution_count": 4,
      "metadata": {
        "id": "q8oJBs-xxytx",
        "colab": {
          "base_uri": "https://localhost:8080/",
          "height": 425
        },
        "outputId": "07a30fc5-c7b8-42bf-ef31-da4dbe678dc5"
      },
      "outputs": [
        {
          "output_type": "stream",
          "name": "stdout",
          "text": [
            "A Floresta Proibida e os Sete Reino \n"
          ]
        },
        {
          "output_type": "error",
          "ename": "KeyboardInterrupt",
          "evalue": "ignored",
          "traceback": [
            "\u001b[0;31m---------------------------------------------------------------------------\u001b[0m",
            "\u001b[0;31mKeyboardInterrupt\u001b[0m                         Traceback (most recent call last)",
            "\u001b[0;32m<ipython-input-4-3efe1f8dc955>\u001b[0m in \u001b[0;36m<cell line: 2>\u001b[0;34m()\u001b[0m\n\u001b[1;32m      1\u001b[0m \u001b[0mprint\u001b[0m\u001b[0;34m(\u001b[0m\u001b[0;34m'A Floresta Proibida e os Sete Reino '\u001b[0m\u001b[0;34m)\u001b[0m\u001b[0;34m\u001b[0m\u001b[0;34m\u001b[0m\u001b[0m\n\u001b[0;32m----> 2\u001b[0;31m \u001b[0mnome\u001b[0m \u001b[0;34m=\u001b[0m \u001b[0minput\u001b[0m\u001b[0;34m(\u001b[0m\u001b[0;34m\"Digite seu nome: \"\u001b[0m\u001b[0;34m)\u001b[0m\u001b[0;34m\u001b[0m\u001b[0;34m\u001b[0m\u001b[0m\n\u001b[0m\u001b[1;32m      3\u001b[0m \u001b[0mprint\u001b[0m\u001b[0;34m(\u001b[0m\u001b[0;34m\"-Olá!\"\u001b[0m\u001b[0;34m,\u001b[0m\u001b[0mnome\u001b[0m\u001b[0;34m,\u001b[0m\u001b[0;34m'. Tudo bem? Eu sou João. Um príncipe fada e blá, blá, blá... Sei que pareçe ser muito legal mas não, acredite, é muuuuuuuuuuuuuuuuuuuuuuuuuuuuuuuuuuuuito intediante.'\u001b[0m\u001b[0;34m)\u001b[0m\u001b[0;34m\u001b[0m\u001b[0;34m\u001b[0m\u001b[0m\n\u001b[1;32m      4\u001b[0m \u001b[0mraça\u001b[0m \u001b[0;34m=\u001b[0m \u001b[0minput\u001b[0m\u001b[0;34m(\u001b[0m\u001b[0;34m'-E você? É que raça? '\u001b[0m\u001b[0;34m)\u001b[0m\u001b[0;34m\u001b[0m\u001b[0;34m\u001b[0m\u001b[0m\n\u001b[1;32m      5\u001b[0m \u001b[0mprint\u001b[0m\u001b[0;34m(\u001b[0m\u001b[0;34m'-'\u001b[0m\u001b[0;34m,\u001b[0m \u001b[0mraça\u001b[0m \u001b[0;34m,\u001b[0m\u001b[0;34m'?! Interesante! acho que podemos ser amigos, você concorda'\u001b[0m\u001b[0;34m,\u001b[0m\u001b[0mnome\u001b[0m\u001b[0;34m,\u001b[0m\u001b[0;34m'?'\u001b[0m\u001b[0;34m)\u001b[0m\u001b[0;34m\u001b[0m\u001b[0;34m\u001b[0m\u001b[0m\n",
            "\u001b[0;32m/usr/local/lib/python3.10/dist-packages/ipykernel/kernelbase.py\u001b[0m in \u001b[0;36mraw_input\u001b[0;34m(self, prompt)\u001b[0m\n\u001b[1;32m    849\u001b[0m                 \u001b[0;34m\"raw_input was called, but this frontend does not support input requests.\"\u001b[0m\u001b[0;34m\u001b[0m\u001b[0;34m\u001b[0m\u001b[0m\n\u001b[1;32m    850\u001b[0m             )\n\u001b[0;32m--> 851\u001b[0;31m         return self._input_request(str(prompt),\n\u001b[0m\u001b[1;32m    852\u001b[0m             \u001b[0mself\u001b[0m\u001b[0;34m.\u001b[0m\u001b[0m_parent_ident\u001b[0m\u001b[0;34m,\u001b[0m\u001b[0;34m\u001b[0m\u001b[0;34m\u001b[0m\u001b[0m\n\u001b[1;32m    853\u001b[0m             \u001b[0mself\u001b[0m\u001b[0;34m.\u001b[0m\u001b[0m_parent_header\u001b[0m\u001b[0;34m,\u001b[0m\u001b[0;34m\u001b[0m\u001b[0;34m\u001b[0m\u001b[0m\n",
            "\u001b[0;32m/usr/local/lib/python3.10/dist-packages/ipykernel/kernelbase.py\u001b[0m in \u001b[0;36m_input_request\u001b[0;34m(self, prompt, ident, parent, password)\u001b[0m\n\u001b[1;32m    893\u001b[0m             \u001b[0;32mexcept\u001b[0m \u001b[0mKeyboardInterrupt\u001b[0m\u001b[0;34m:\u001b[0m\u001b[0;34m\u001b[0m\u001b[0;34m\u001b[0m\u001b[0m\n\u001b[1;32m    894\u001b[0m                 \u001b[0;31m# re-raise KeyboardInterrupt, to truncate traceback\u001b[0m\u001b[0;34m\u001b[0m\u001b[0;34m\u001b[0m\u001b[0m\n\u001b[0;32m--> 895\u001b[0;31m                 \u001b[0;32mraise\u001b[0m \u001b[0mKeyboardInterrupt\u001b[0m\u001b[0;34m(\u001b[0m\u001b[0;34m\"Interrupted by user\"\u001b[0m\u001b[0;34m)\u001b[0m \u001b[0;32mfrom\u001b[0m \u001b[0;32mNone\u001b[0m\u001b[0;34m\u001b[0m\u001b[0;34m\u001b[0m\u001b[0m\n\u001b[0m\u001b[1;32m    896\u001b[0m             \u001b[0;32mexcept\u001b[0m \u001b[0mException\u001b[0m \u001b[0;32mas\u001b[0m \u001b[0me\u001b[0m\u001b[0;34m:\u001b[0m\u001b[0;34m\u001b[0m\u001b[0;34m\u001b[0m\u001b[0m\n\u001b[1;32m    897\u001b[0m                 \u001b[0mself\u001b[0m\u001b[0;34m.\u001b[0m\u001b[0mlog\u001b[0m\u001b[0;34m.\u001b[0m\u001b[0mwarning\u001b[0m\u001b[0;34m(\u001b[0m\u001b[0;34m\"Invalid Message:\"\u001b[0m\u001b[0;34m,\u001b[0m \u001b[0mexc_info\u001b[0m\u001b[0;34m=\u001b[0m\u001b[0;32mTrue\u001b[0m\u001b[0;34m)\u001b[0m\u001b[0;34m\u001b[0m\u001b[0;34m\u001b[0m\u001b[0m\n",
            "\u001b[0;31mKeyboardInterrupt\u001b[0m: Interrupted by user"
          ]
        }
      ],
      "source": [
        "print('A Floresta Proibida e os Sete Reino ')\n",
        "nome = input(\"Digite seu nome: \")\n",
        "print(\"-Olá!\",nome,'. Tudo bem? Eu sou João. Um príncipe fada e blá, blá, blá... Sei que pareçe ser muito legal mas não, acredite, é muuuuuuuuuuuuuuuuuuuuuuuuuuuuuuuuuuuuito intediante.')\n",
        "raça = input('-E você? É que raça? ')\n",
        "print('-', raça ,'?! Interesante! acho que podemos ser amigos, você concorda',nome,'?')\n",
        "print('-Mas, como você entrou aqui ?')\n",
        "print('-Eu?! Sou filho da Aline, a braço direito do seu pai...*')\n",
        "print(\"-A minha amiga\", raça)\n",
        "print('-A vossa majest... *')\n",
        "print('-Seja inforrmal', nome,'!' )\n",
        "print(\"-Continuando, você quer fugir comigo?*\")\n",
        "print('-Sim! Mas, tem criaturas muito malvadas e assustadoras lá!!!')\n",
        "print('João carregou ', nome, 'Até o chão.')\n",
        "print(\"E no meio da floresta eles eles ouvira um crack e era um......\")\n",
        "print(\"VAMPIRO!!!!!!!!!!!\")\n",
        "resposta1 = input(\"-Diga algo à ele:\")\n",
        "print('-Oque?!? Como ousa falar', resposta1,'para alguém com eu?!? Ora s...')\n",
        "print('-NÃO JOÃO!!!')\n",
        "print('João foi acertado no meio de seu peito!! eles correm pela floresta fugindo até que', nome, 'vê uma fumaçade chaminé, e leva joão para aquela casa. Chegando lá encontra uma bruxa anciã, de 500 anos, chamada Aurora e conta tudo pra ela.', nome, 'ficou nervoso(a) e agitado(a) e começa a falar incontrolavelmente.')\n",
        "print(\"-shhhhh, pode calar sua boca por um minuto?! que eu to me concentrando. Você quer ou não ver seu amigo? \")\n",
        "print(\"Horas se passaram até que a bruxa falou...\")\n",
        "print(\"-Não concegui curar ele totalmente, apenas o suficiente para ele andar ok?\")\n",
        "cla = input(\"-Mas\", nome, 'qual é seu clã? ')\n",
        "print(\"-Sério que você é de\", cla, '?!? Esse clã é rarissimo! E uma pergunta, você tem a carta?')\n",
        "print(\"-Que carta?\")\n",
        "print(\"Você poderá visitar todo os sete reinos! Os elfos e as Fadas que se juntaram, os Ogros, os Goblins, os Vampiros os Lobisomens \")"
      ]
    },
    {
      "cell_type": "markdown",
      "source": [],
      "metadata": {
        "id": "RPcCgNMEZNI4"
      }
    }
  ]
}